{
 "cells": [
  {
   "cell_type": "code",
   "execution_count": null,
   "metadata": {},
   "outputs": [],
   "source": [
    "''''In tis main file we do an initial explortation, we clean the data, and perfoirm EDA and vizualisation'''\n",
    "\n",
    "import pandas as pd\n",
    "import warnings\n",
    "warnings.filterwarnings(\"ignore\")\n",
    "\n",
    "import initial_exploration as explo\n",
    "import data_cleaning as cl\n",
    "\n",
    "%load_ext autoreload\n",
    "%autoreload 2\n",
    "\n",
    "pd.set_option('display.max_columns', None)"
   ]
  },
  {
   "cell_type": "code",
   "execution_count": null,
   "metadata": {},
   "outputs": [],
   "source": [
    "# Load datasets:\n",
    "cash_requests = pd.read_csv('project_dataset/extract - cash request - data analyst.csv')\n",
    "fees = pd.read_csv('project_dataset/extract - fees - data analyst - .csv')"
   ]
  },
  {
   "cell_type": "code",
   "execution_count": null,
   "metadata": {},
   "outputs": [],
   "source": [
    "cash_requests.head()"
   ]
  },
  {
   "cell_type": "code",
   "execution_count": null,
   "metadata": {},
   "outputs": [],
   "source": [
    "# Inital exploration:\n",
    "explo.check(cash_requests)"
   ]
  },
  {
   "cell_type": "code",
   "execution_count": null,
   "metadata": {},
   "outputs": [],
   "source": [
    "cl.convert_dates(cash_requests, cl.cash_request_date_columns)\n",
    "\n",
    "# Re-check and ensure correct data types in cash_requests:\n",
    "cl.ensure_correct_data_types(cash_requests, cl.cash_request_date_columns)\n",
    "\n",
    "cash_requests.head()"
   ]
  },
  {
   "cell_type": "code",
   "execution_count": null,
   "metadata": {},
   "outputs": [],
   "source": [
    "explo.check(cash_requests)"
   ]
  },
  {
   "cell_type": "code",
   "execution_count": null,
   "metadata": {},
   "outputs": [],
   "source": [
    "fees.head()"
   ]
  },
  {
   "cell_type": "code",
   "execution_count": null,
   "metadata": {},
   "outputs": [],
   "source": [
    "explo.check(fees)"
   ]
  },
  {
   "cell_type": "code",
   "execution_count": null,
   "metadata": {},
   "outputs": [],
   "source": [
    "cl.convert_dates(fees, cl.fees_data_date_columns)\n",
    "\n",
    "# Re-check and ensure correct data types in cfees:\n",
    "cl.ensure_correct_data_types(fees, cl.fees_data_date_columns)\n",
    "\n",
    "fees.head()"
   ]
  },
  {
   "cell_type": "code",
   "execution_count": null,
   "metadata": {},
   "outputs": [],
   "source": [
    "cl.rename_col(cash_requests, 'id', 'cash_request_id')\n",
    "data_df = cl.merge_df(cash_requests, fees, 'outer', 'cash_request_id')\n",
    "data_df = cl.rename_col_xy(data_df)\n",
    "data_df.head(20)"
   ]
  },
  {
   "cell_type": "code",
   "execution_count": null,
   "metadata": {},
   "outputs": [],
   "source": [
    "data_df.sample(10)"
   ]
  },
  {
   "cell_type": "code",
   "execution_count": null,
   "metadata": {},
   "outputs": [],
   "source": [
    "cl.rename_col(data_df, 'id', 'id_fee')\n",
    "cl.clean_text_column(data_df, \"reason\")\n",
    "explo.check(data_df)"
   ]
  },
  {
   "cell_type": "code",
   "execution_count": null,
   "metadata": {},
   "outputs": [],
   "source": [
    "data_df = cl.remove_nan(data_df, \"cash_request_id\")\n",
    "explo.check_null(data_df)"
   ]
  },
  {
   "cell_type": "code",
   "execution_count": null,
   "metadata": {},
   "outputs": [],
   "source": [
    "data_df = cl.drop_col(data_df, [\"id_fee\", \"category\"])\n",
    "data_df.head(10)"
   ]
  },
  {
   "cell_type": "code",
   "execution_count": null,
   "metadata": {},
   "outputs": [],
   "source": [
    "explo.check_null(data_df)"
   ]
  },
  {
   "cell_type": "code",
   "execution_count": null,
   "metadata": {},
   "outputs": [],
   "source": [
    "frames = cl.selecting_data_types(data_df)\n",
    "num = frames[1]\n",
    "cat = frames[0]\n",
    "date = frames[2]"
   ]
  },
  {
   "cell_type": "code",
   "execution_count": null,
   "metadata": {},
   "outputs": [],
   "source": [
    "num.head()"
   ]
  },
  {
   "cell_type": "code",
   "execution_count": null,
   "metadata": {},
   "outputs": [],
   "source": [
    "explo.check_null(num)"
   ]
  },
  {
   "cell_type": "code",
   "execution_count": null,
   "metadata": {},
   "outputs": [],
   "source": [
    "cat.head()"
   ]
  },
  {
   "cell_type": "code",
   "execution_count": null,
   "metadata": {},
   "outputs": [],
   "source": [
    "explo.check_null(cat)"
   ]
  },
  {
   "cell_type": "code",
   "execution_count": null,
   "metadata": {},
   "outputs": [],
   "source": [
    "date.head()"
   ]
  },
  {
   "cell_type": "code",
   "execution_count": null,
   "metadata": {},
   "outputs": [],
   "source": [
    "explo.check_null(date)"
   ]
  },
  {
   "cell_type": "code",
   "execution_count": null,
   "metadata": {},
   "outputs": [],
   "source": [
    "# Verify specific date columns' data types in cash_requests:\n",
    "print(\"\\nCheck data types of date columns:\")\n",
    "print(cash_requests[['created_at', 'updated_at', 'moderated_at', 'reimbursement_date', \n",
    "                     'cash_request_received_date', 'money_back_date', 'send_at', 'reco_creation', 'reco_last_update']].dtypes)\n",
    "\n",
    "# Check for any NaT in date columns:\n",
    "print(\"\\nCheck NaT (missing values) in date columns:\")\n",
    "print(cash_requests[['created_at', 'updated_at', 'moderated_at', 'reimbursement_date', \n",
    "                     'cash_request_received_date', 'money_back_date', 'send_at', 'reco_creation', 'reco_last_update']].isna().sum())"
   ]
  },
  {
   "cell_type": "code",
   "execution_count": null,
   "metadata": {},
   "outputs": [],
   "source": [
    "df_time_between_CR_and_money_back = cl.process_date_columns(date, \"CR_created_at\", \"money_back_date\")\n",
    "df_time_between_CR_and_money_back.head()"
   ]
  },
  {
   "cell_type": "code",
   "execution_count": null,
   "metadata": {},
   "outputs": [],
   "source": [
    "explo.check(df_time_between_CR_and_money_back)"
   ]
  },
  {
   "cell_type": "code",
   "execution_count": null,
   "metadata": {},
   "outputs": [],
   "source": [
    "df_time_between_fee_created_and_paid_at_date = cl.process_date_columns(date, \"fee_created_at\", \"paid_at\")\n",
    "df_time_between_fee_created_and_paid_at_date.head(20)"
   ]
  },
  {
   "cell_type": "code",
   "execution_count": null,
   "metadata": {},
   "outputs": [],
   "source": [
    "explo.check(df_time_between_fee_created_and_paid_at_date)"
   ]
  },
  {
   "cell_type": "code",
   "execution_count": null,
   "metadata": {},
   "outputs": [],
   "source": [
    "# We can divide the columns between us and ecah work in a set of columns performing an \n",
    "# univariate analysis (frequency plots, box plots, doughnut, histograms   or any other you concider)\n",
    "#For numercial plots also create report in mean , meadian, std, and arrive to conclusions "
   ]
  },
  {
   "cell_type": "code",
   "execution_count": null,
   "metadata": {},
   "outputs": [],
   "source": [
    "data_df['first_advance_date'] = data_df.groupby('user_id')['CR_created_at'].transform('min')\n",
    "#create cohort using dates from the first transactions, and grouping all users according to user id."
   ]
  },
  {
   "cell_type": "code",
   "execution_count": null,
   "metadata": {},
   "outputs": [],
   "source": [
    "data_df['cohort_month'] = data_df['first_advance_date'].dt.to_period('M')\n",
    "# extracts month and year from the first advance column and converts it to a period format."
   ]
  },
  {
   "cell_type": "code",
   "execution_count": null,
   "metadata": {},
   "outputs": [],
   "source": [
    "data_df['cohort_index'] = (data_df['CR_created_at'].dt.year - data_df['first_advance_date'].dt.year) * 12 + \\\n",
    "                     (data_df['CR_created_at'].dt.month - data_df['first_advance_date'].dt.month) + 1\n",
    "# calculates index of cohorts, finds difference in years between two dates, *12 converts into months."
   ]
  },
  {
   "cell_type": "code",
   "execution_count": null,
   "metadata": {},
   "outputs": [],
   "source": [
    "print(data_df.info()) #check if the cohort column exists"
   ]
  },
  {
   "cell_type": "code",
   "execution_count": null,
   "metadata": {},
   "outputs": [],
   "source": [
    "data_df['cohort_month'] = data_df['first_advance_date'].dt.to_period('M')\n",
    "data_df.groupby('cohort_month').size()\n",
    "# how many users are in each cohort\n"
   ]
  },
  {
   "cell_type": "code",
   "execution_count": null,
   "metadata": {},
   "outputs": [],
   "source": [
    "cohort_table = data_df.groupby(['cohort_month', data_df['CR_created_at'].dt.to_period('M')])['user_id'].count()\n",
    "cohort_table = cohort_table.unstack()\n",
    "cohort_table = cohort_table.fillna(0)\n",
    "print(cohort_table)"
   ]
  },
  {
   "cell_type": "code",
   "execution_count": null,
   "metadata": {},
   "outputs": [],
   "source": [
    "# Count the number of transactions per cohort and month\n",
    "cohort_size = data_df.groupby('cohort_month')['user_id'].nunique()\n",
    "cohort_usage = data_df.groupby(['cohort_month', 'CR_created_at'])['user_id'].nunique().unstack()"
   ]
  },
  {
   "cell_type": "code",
   "execution_count": null,
   "metadata": {},
   "outputs": [],
   "source": [
    "# Normalize by cohort size\n",
    "cohort_usage_percentage = cohort_usage.div(cohort_size, axis=0) * 100"
   ]
  },
  {
   "cell_type": "code",
   "execution_count": null,
   "metadata": {},
   "outputs": [],
   "source": [
    "# Display the first few rows\n",
    "cohort_usage_percentage.fillna(0, inplace=True)\n",
    "print(cohort_usage_percentage)"
   ]
  },
  {
   "cell_type": "code",
   "execution_count": null,
   "metadata": {},
   "outputs": [],
   "source": [
    "usage_frequency = data_df.groupby('user_id').size()\n",
    "#"
   ]
  },
  {
   "cell_type": "code",
   "execution_count": null,
   "metadata": {},
   "outputs": [],
   "source": []
  }
 ],
 "metadata": {
  "kernelspec": {
   "display_name": "Python 3",
   "language": "python",
   "name": "python3"
  },
  "language_info": {
   "codemirror_mode": {
    "name": "ipython",
    "version": 3
   },
   "file_extension": ".py",
   "mimetype": "text/x-python",
   "name": "python",
   "nbconvert_exporter": "python",
   "pygments_lexer": "ipython3",
   "version": "3.13.2"
  }
 },
 "nbformat": 4,
 "nbformat_minor": 2
}

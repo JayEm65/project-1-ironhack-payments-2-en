{
 "cells": [
  {
   "cell_type": "code",
   "execution_count": null,
   "metadata": {},
   "outputs": [],
   "source": [
    "# Import necessary libraries and modules\n",
    "import pandas as pd\n",
    "import warnings\n",
    "import seaborn as sns\n",
    "import matplotlib.pyplot as plt\n",
    "import initial_exploration as explo\n",
    "import data_cleaning as cl\n",
    "\n",
    "# Suppress warnings to avoid clutter\n",
    "warnings.filterwarnings(\"ignore\")\n",
    "\n",
    "# Set pandas display options for full column visibility\n",
    "pd.set_option('display.max_columns', None)\n",
    "\n",
    "# Enable autoreloading of external modules during the session\n",
    "%load_ext autoreload\n",
    "%autoreload 2\n"
   ]
  },
  {
   "cell_type": "code",
   "execution_count": null,
   "metadata": {},
   "outputs": [],
   "source": [
    "# Load the datasets\n",
    "cash_requests = pd.read_csv('project_dataset/extract - cash request - data analyst.csv')\n",
    "fees = pd.read_csv('project_dataset/extract - fees - data analyst - .csv')\n",
    "\n",
    "# Display the first few rows of the cash_requests dataset\n",
    "cash_requests.head()\n"
   ]
  },
  {
   "cell_type": "code",
   "execution_count": null,
   "metadata": {},
   "outputs": [],
   "source": [
    "# Initial exploration of the cash_requests dataset\n",
    "explo.check(cash_requests)\n",
    "\n",
    "# Convert date columns to datetime format in cash_requests\n",
    "cl.convert_dates(cash_requests, cl.cash_request_date_columns)\n",
    "\n",
    "# Ensure correct data types in the cash_requests dataset\n",
    "cl.ensure_correct_data_types(cash_requests, cl.cash_request_date_columns)\n",
    "\n",
    "# Repeat the initial exploration for the fees dataset\n",
    "explo.check(fees)\n",
    "\n",
    "# Convert date columns in fees dataset\n",
    "cl.convert_dates(fees, cl.fees_data_date_columns)\n",
    "\n",
    "# Ensure correct data types in the fees dataset\n",
    "cl.ensure_correct_data_types(fees, cl.fees_data_date_columns)\n"
   ]
  },
  {
   "cell_type": "code",
   "execution_count": null,
   "metadata": {},
   "outputs": [],
   "source": [
    "# Rename 'id' column to 'cash_request_id' in the cash_requests dataset\n",
    "cl.rename_col(cash_requests, 'id', 'cash_request_id')\n",
    "\n",
    "# Merge cash_requests and fees data on 'cash_request_id' column\n",
    "data_df = cl.merge_df(cash_requests, fees, 'outer', 'cash_request_id')\n",
    "\n",
    "# Rename columns to standardize naming convention\n",
    "data_df = cl.rename_col_xy(data_df)\n",
    "\n",
    "# Clean text column 'reason' for consistency\n",
    "cl.clean_text_column(data_df, \"reason\")\n",
    "\n",
    "# Recheck the merged data\n",
    "explo.check(data_df)\n",
    "\n",
    "# Remove rows with missing values in the 'cash_request_id' column\n",
    "data_df = cl.remove_nan(data_df, \"cash_request_id\")\n",
    "\n",
    "# Verify there are no null values left\n",
    "explo.check_null(data_df)\n",
    "\n",
    "# Drop unnecessary columns: 'id_fee' and 'category'\n",
    "data_df = cl.drop_col(data_df, [\"id_fee\", \"category\"])\n",
    "\n",
    "# Recheck the data after dropping columns\n",
    "explo.check_null(data_df)\n"
   ]
  },
  {
   "cell_type": "code",
   "execution_count": null,
   "metadata": {},
   "outputs": [],
   "source": []
  }
 ],
 "metadata": {
  "kernelspec": {
   "display_name": "Python 3",
   "language": "python",
   "name": "python3"
  },
  "language_info": {
   "codemirror_mode": {
    "name": "ipython",
    "version": 3
   },
   "file_extension": ".py",
   "mimetype": "text/x-python",
   "name": "python",
   "nbconvert_exporter": "python",
   "pygments_lexer": "ipython3",
   "version": "3.12.6"
  }
 },
 "nbformat": 4,
 "nbformat_minor": 2
}

{
 "cells": [
  {
   "cell_type": "code",
   "execution_count": null,
   "metadata": {},
   "outputs": [],
   "source": [
    "''''In tis main file we do an initial explortation, we clean the data, and perfoirm EDA and vizualisation'''\n",
    "\n",
    "import pandas as pd\n",
    "import warnings\n",
    "\n",
    "warnings.filterwarnings(\"ignore\")\n",
    "\n",
    "import initial_exploration as explo\n",
    "import data_cleaning as cl\n",
    "import eda as eda\n",
    "\n",
    "%load_ext autoreload\n",
    "%autoreload 2\n",
    "\n",
    "pd.set_option('display.max_columns', None)"
   ]
  },
  {
   "cell_type": "markdown",
   "metadata": {},
   "source": [
    "# Data Quality Analysis (Data Cleaning)"
   ]
  },
  {
   "cell_type": "markdown",
   "metadata": {},
   "source": [
    "### Cash Requests Analysis"
   ]
  },
  {
   "cell_type": "code",
   "execution_count": null,
   "metadata": {},
   "outputs": [],
   "source": [
    "# Load datasets:\n",
    "cash_requests = pd.read_csv('project_dataset/extract - cash request - data analyst.csv')\n",
    "fees = pd.read_csv('project_dataset/extract - fees - data analyst - .csv')"
   ]
  },
  {
   "cell_type": "code",
   "execution_count": null,
   "metadata": {},
   "outputs": [],
   "source": [
    "# First look to cash_request data\n",
    "cash_requests.head()"
   ]
  },
  {
   "cell_type": "code",
   "execution_count": null,
   "metadata": {},
   "outputs": [],
   "source": [
    "# Inital exploration cash_request data\n",
    "explo.check(cash_requests)"
   ]
  },
  {
   "cell_type": "code",
   "execution_count": null,
   "metadata": {},
   "outputs": [],
   "source": [
    "# Cleaning the data for cash request data frame\n",
    "\n",
    "# Formating dates column \n",
    "cl.convert_dates(cash_requests, cl.cash_request_date_columns)\n",
    "\n",
    "# New look to the data after date columns fixed\n",
    "cash_requests.head()"
   ]
  },
  {
   "cell_type": "code",
   "execution_count": null,
   "metadata": {},
   "outputs": [],
   "source": [
    "# Let's ensure all the data is in the correct format\n",
    "explo.check(cash_requests)"
   ]
  },
  {
   "cell_type": "markdown",
   "metadata": {},
   "source": [
    "### Fees Analysis"
   ]
  },
  {
   "cell_type": "code",
   "execution_count": null,
   "metadata": {},
   "outputs": [],
   "source": [
    "# First look to fees data\n",
    "fees.head()"
   ]
  },
  {
   "cell_type": "code",
   "execution_count": null,
   "metadata": {},
   "outputs": [],
   "source": [
    "# Inital exploration fees data\n",
    "explo.check(fees)"
   ]
  },
  {
   "cell_type": "code",
   "execution_count": null,
   "metadata": {},
   "outputs": [],
   "source": [
    "# Cleaning the data for fees data frame\n",
    "\n",
    "# Formating dates column \n",
    "cl.convert_dates(fees, cl.fees_data_date_columns)\n",
    "\n",
    "# New look to the data after date columns fixed\n",
    "fees.head()"
   ]
  },
  {
   "cell_type": "code",
   "execution_count": null,
   "metadata": {},
   "outputs": [],
   "source": [
    "# Let's ensure all the data is in the correct format\n",
    "explo.check(fees)"
   ]
  },
  {
   "cell_type": "markdown",
   "metadata": {},
   "source": [
    "### Data Cleaning "
   ]
  },
  {
   "cell_type": "code",
   "execution_count": null,
   "metadata": {},
   "outputs": [],
   "source": [
    "# Let's merge the two data frames. Data from cash request using the 'id' columns\n",
    "# and fees data frame usiung the 'cash_request_id' column and keep cleaning\n",
    "\n",
    "# Renaming column 'id' to 'cash_request_id' in cash request data frame for better understending\n",
    "cash_requests = cl.rename_col(cash_requests, 'id', 'cash_request_id')\n",
    "\n",
    "# Merging the data frames and saving them into a new data frame: data_df\n",
    "data_df = cl.merge_df(cash_requests, fees, 'outer', 'cash_request_id')\n",
    "\n",
    "# Renaming columns of equal name in both data frames. The columns from cash request to start with CR_\n",
    "# and the once from fees to fee_\n",
    "data_df = cl.rename_col_xy(data_df)\n",
    "\n",
    "# Column with the fee id values is rename to id_fee for better understanding\n",
    "data_df = cl.rename_col(data_df, 'id', 'id_fee')\n",
    "\n",
    "# Reason column include the category + date or request id, resulting in many unique values\n",
    "# with this modification we remove the date or request id and this way we ended with 4 unique \n",
    "# values that can be used for EDA\n",
    "data_df = cl.clean_text_column(data_df, \"reason\")\n",
    "\n",
    "# Removing the rows without a cash request amount\n",
    "data_df = cl.remove_nan(data_df, \"amount\")\n",
    "\n",
    "# Id fee column is not necesary for the analysis and category column have many missing values so we will drop\n",
    "data_df = cl.drop_col(data_df, [\"id_fee\", \"category\"])\n",
    "\n",
    "# Let's check this changes\n",
    "data_df.head(20)"
   ]
  },
  {
   "cell_type": "code",
   "execution_count": null,
   "metadata": {},
   "outputs": [],
   "source": [
    "# Exploration of the merged data frame\n",
    "explo.check(data_df)"
   ]
  },
  {
   "cell_type": "code",
   "execution_count": null,
   "metadata": {},
   "outputs": [],
   "source": [
    "# Creating individual data frames for columns that are numerical, categorical, and dates\n",
    "frames = cl.selecting_data_types(data_df)\n",
    "num = frames[1]\n",
    "cat = frames[0]\n",
    "date = frames[2]"
   ]
  },
  {
   "cell_type": "code",
   "execution_count": null,
   "metadata": {},
   "outputs": [],
   "source": [
    "# First look to categorical columns\n",
    "cat.head()"
   ]
  },
  {
   "cell_type": "code",
   "execution_count": null,
   "metadata": {},
   "outputs": [],
   "source": [
    "# Total amount should be numerical so we are moving it from cat to num\n",
    "cat, num = cl.move_column(cat, num, \"total_amount\")\n",
    "\n",
    "#Let's check cat again\n",
    "cat.head()"
   ]
  },
  {
   "cell_type": "code",
   "execution_count": null,
   "metadata": {},
   "outputs": [],
   "source": [
    "# Setting CR created at as index for the cohort analysis \n",
    "cat = cl.set_index(cat, data_df, 'CR_created_at')\n",
    "\n",
    "#Let's check cat again\n",
    "cat.head()"
   ]
  },
  {
   "cell_type": "code",
   "execution_count": null,
   "metadata": {},
   "outputs": [],
   "source": [
    "# First look to date data frame\n",
    "date.head()"
   ]
  },
  {
   "cell_type": "code",
   "execution_count": null,
   "metadata": {},
   "outputs": [],
   "source": [
    "# First look to categorical columns. User_id was kept for the cohort analysis\n",
    "num.head()"
   ]
  },
  {
   "cell_type": "code",
   "execution_count": null,
   "metadata": {},
   "outputs": [],
   "source": [
    "# Lets add more data to the numerical data frame using the dates column\n",
    "\n",
    "# Time between a CR is created and Ironhack get the mnoney back\n",
    "df_time_between_CR_and_money_back = cl.process_date_columns(date, \"CR_created_at\", \"money_back_date\", \"days_difference_CR_back\")\n",
    "num = cl.merge_by_index(num, df_time_between_CR_and_money_back, \"outer\", \"days_difference_CR_back\")\n",
    "\n",
    "# Time between a fee timestamp is created and Ironhack get the mnoney\n",
    "df_time_between_fee_created_and_paid_at_date = cl.process_date_columns(date, \"fee_created_at\", \"paid_at\", \"days_difference_fee_paid\")\n",
    "num = cl.merge_by_index(num, df_time_between_fee_created_and_paid_at_date, \"outer\", \"days_difference_fee_paid\")\n",
    "\n",
    "\n",
    "# A new look to numerical data frame\n",
    "num.head(10)"
   ]
  },
  {
   "cell_type": "code",
   "execution_count": null,
   "metadata": {},
   "outputs": [],
   "source": [
    "# Setting CR created at as index for the cohort analysis \n",
    "num = cl.set_index(num, data_df, 'CR_created_at')\n",
    "\n",
    "# A new look to numerical data frame\n",
    "num.head(10)"
   ]
  },
  {
   "cell_type": "markdown",
   "metadata": {},
   "source": [
    "# Initial Exploratory Data Analysis (EDA)"
   ]
  },
  {
   "cell_type": "markdown",
   "metadata": {},
   "source": [
    "### Categorical columns EDA"
   ]
  },
  {
   "cell_type": "code",
   "execution_count": null,
   "metadata": {},
   "outputs": [],
   "source": [
    "# Generate frequency table and bar plots for category columns\n",
    "for column in cat.columns:\n",
    "    print(column)\n",
    "    df0, df1 = eda.freq(cat, column)\n",
    "    print(df0)\n",
    "    eda.cat_viz(cat, df1, column)\n",
    "    print(\"\")"
   ]
  },
  {
   "cell_type": "markdown",
   "metadata": {},
   "source": [
    "### Numerical columns EDA"
   ]
  },
  {
   "cell_type": "code",
   "execution_count": null,
   "metadata": {},
   "outputs": [],
   "source": [
    "# EDA for numerical columns\n",
    "for column in num.columns:\n",
    "    print(column)\n",
    "    print(eda.stat(num, column))\n",
    "    eda.stat_viz(num,column)\n",
    "    print(\"\")"
   ]
  },
  {
   "cell_type": "markdown",
   "metadata": {},
   "source": [
    "# Cohort Analysis"
   ]
  },
  {
   "cell_type": "markdown",
   "metadata": {},
   "source": [
    "## Univariate"
   ]
  },
  {
   "cell_type": "markdown",
   "metadata": {},
   "source": [
    "### Frequency"
   ]
  },
  {
   "cell_type": "code",
   "execution_count": null,
   "metadata": {},
   "outputs": [],
   "source": [
    "# Copy of data_df\n",
    "data_fre = data_df.copy()\n",
    "\n",
    "# Frequency hit mpa by cohort\n",
    "cohort_size, cohort_table = eda.fre(data_fre)\n",
    "cohort_size"
   ]
  },
  {
   "cell_type": "code",
   "execution_count": null,
   "metadata": {},
   "outputs": [],
   "source": [
    "# Frequency of service usage per month\n",
    "frequency_table = eda.fre_bar(cohort_table)\n",
    "frequency_table"
   ]
  },
  {
   "cell_type": "markdown",
   "metadata": {},
   "source": [
    "### Incident Rate"
   ]
  },
  {
   "cell_type": "code",
   "execution_count": null,
   "metadata": {},
   "outputs": [],
   "source": [
    "#Copy of categorical data frame\n",
    "cat_r = data_df.copy()\n",
    "\n",
    "# Incident Rate: The incident rate, specifically focusing on payment incidents, for each cohort\n",
    "incident_rate, frequency_table = eda.incident_metric(cat_r)\n",
    "\n",
    "# Let's have a look to the incident rate table\n",
    "incident_rate"
   ]
  },
  {
   "cell_type": "code",
   "execution_count": null,
   "metadata": {},
   "outputs": [],
   "source": [
    "# Incident Rate: The incident rate, specifically focusing on payment incidents, for each cohort\n",
    "frequency = eda.incident_metric_f(cat_r, frequency_table)\n",
    "\n",
    "# Let's have a look to the incident rate table\n",
    "frequency"
   ]
  },
  {
   "cell_type": "markdown",
   "metadata": {},
   "source": [
    "### Revenue Generated by the Cohort"
   ]
  },
  {
   "cell_type": "code",
   "execution_count": null,
   "metadata": {},
   "outputs": [],
   "source": [
    "#Copy of numerical data frame\n",
    "num_r = num.copy()\n",
    "\n",
    "# Revenue Generated by the Cohort: Calculate the total revenue generated by each cohort over months to assess the financial impact of user behavior.\n",
    "revenue = eda.revenue_metric(num_r, \"total_amount\")\n",
    "\n",
    "# Let's have a look to the revenue table\n",
    "revenue"
   ]
  },
  {
   "cell_type": "code",
   "execution_count": null,
   "metadata": {},
   "outputs": [],
   "source": [
    "# Let's plot the total revenue per month\n",
    "eda.revenue_plot(revenue)"
   ]
  },
  {
   "cell_type": "code",
   "execution_count": null,
   "metadata": {},
   "outputs": [],
   "source": [
    "cohort_data = eda.revenue_plot_per_user(num_r)"
   ]
  },
  {
   "cell_type": "markdown",
   "metadata": {},
   "source": [
    "## Bivariate"
   ]
  },
  {
   "cell_type": "code",
   "execution_count": null,
   "metadata": {},
   "outputs": [],
   "source": [
    "#Let's make a copy of the data for the bivariate analysis\n",
    "cat_new = cat.copy()\n",
    "num_new = cohort_data.copy()\n",
    "\n",
    "# Corelation between the diferent incidents and the revenue  \n",
    "df_merged, df_melted = eda.bi_rev_incid(cat_new, num_new)\n",
    "df_merged"
   ]
  },
  {
   "cell_type": "code",
   "execution_count": null,
   "metadata": {},
   "outputs": [],
   "source": [
    "# Lets restructure the data\n",
    "cat_new = cat.copy()\n",
    "num_new = num_r.copy()\n",
    "new_data_str = eda.restruct(cat_new, num_new)"
   ]
  },
  {
   "cell_type": "code",
   "execution_count": null,
   "metadata": {},
   "outputs": [],
   "source": [
    "# Data restructured 1\n",
    "new_data_str[0]"
   ]
  },
  {
   "cell_type": "code",
   "execution_count": null,
   "metadata": {},
   "outputs": [],
   "source": [
    "# Data restructured 2\n",
    "new_data_str[1]"
   ]
  },
  {
   "cell_type": "code",
   "execution_count": null,
   "metadata": {},
   "outputs": [],
   "source": [
    "# Data restructured 1\n",
    "new_data_str[2]"
   ]
  },
  {
   "cell_type": "code",
   "execution_count": null,
   "metadata": {},
   "outputs": [],
   "source": [
    "# Study of the correlation between a fee incident and status of the fee\n",
    "crosstab_table = eda.fee_heat_map(data_df, \"fee_status\", \"reason\", \"Fee reason\", \"Fee Status\")\n",
    "crosstab_table"
   ]
  },
  {
   "cell_type": "code",
   "execution_count": null,
   "metadata": {},
   "outputs": [],
   "source": [
    "# Study of the correlation between a transfer type and cash request status\n",
    "crosstab_table = eda.fee_heat_map(data_df, \"CR_status\", \"transfer_type\", \"Transfer type\", \"Cash request status\")\n",
    "crosstab_table"
   ]
  },
  {
   "cell_type": "code",
   "execution_count": null,
   "metadata": {},
   "outputs": [],
   "source": [
    "# Study of the correlation between a fee reason and days that take to recibe the payment\n",
    "eda.cat_con(cat, num)\n"
   ]
  },
  {
   "cell_type": "code",
   "execution_count": null,
   "metadata": {},
   "outputs": [],
   "source": [
    "# Study of the correlation between the time for a CR payment and a Fee payment\n",
    "eda.line_plot(cat, num)"
   ]
  }
 ],
 "metadata": {
  "kernelspec": {
   "display_name": "Python 3",
   "language": "python",
   "name": "python3"
  },
  "language_info": {
   "codemirror_mode": {
    "name": "ipython",
    "version": 3
   },
   "file_extension": ".py",
   "mimetype": "text/x-python",
   "name": "python",
   "nbconvert_exporter": "python",
   "pygments_lexer": "ipython3",
   "version": "3.13.2"
  }
 },
 "nbformat": 4,
 "nbformat_minor": 2
}

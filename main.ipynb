{
 "cells": [
  {
   "cell_type": "code",
   "execution_count": null,
   "metadata": {},
   "outputs": [],
   "source": [
    "''''In tis main file we do an initial explortation, we clean the data, and perfoirm EDA and vizualisation'''\n",
    "\n",
    "import pandas as pd\n",
    "import warnings\n",
    "warnings.filterwarnings(\"ignore\")\n",
    "\n",
    "import initial_exploration as explo\n",
    "import data_cleaning as cl\n",
    "import pandas as pd\n",
    "import seaborn as sns\n",
    "import matplotlib.pyplot as plt\n",
    "\n",
    "%load_ext autoreload\n",
    "%autoreload 2\n",
    "\n",
    "pd.set_option('display.max_columns', None)"
   ]
  },
  {
   "cell_type": "code",
   "execution_count": null,
   "metadata": {},
   "outputs": [],
   "source": [
    "# Load datasets:\n",
    "cash_requests = pd.read_csv('project_dataset/extract - cash request - data analyst.csv')\n",
    "fees = pd.read_csv('project_dataset/extract - fees - data analyst - .csv')"
   ]
  },
  {
   "cell_type": "code",
   "execution_count": null,
   "metadata": {},
   "outputs": [],
   "source": [
    "cash_requests.head()"
   ]
  },
  {
   "cell_type": "code",
   "execution_count": null,
   "metadata": {},
   "outputs": [],
   "source": [
    "# Inital exploration:\n",
    "explo.check(cash_requests)"
   ]
  },
  {
   "cell_type": "code",
   "execution_count": null,
   "metadata": {},
   "outputs": [],
   "source": [
    "cl.convert_dates(cash_requests, cl.cash_request_date_columns)\n",
    "\n",
    "# Re-check and ensure correct data types in cash_requests:\n",
    "cl.ensure_correct_data_types(cash_requests, cl.cash_request_date_columns)\n",
    "\n",
    "cash_requests.head()"
   ]
  },
  {
   "cell_type": "code",
   "execution_count": null,
   "metadata": {},
   "outputs": [],
   "source": [
    "explo.check(cash_requests)"
   ]
  },
  {
   "cell_type": "code",
   "execution_count": null,
   "metadata": {},
   "outputs": [],
   "source": [
    "fees.head()"
   ]
  },
  {
   "cell_type": "code",
   "execution_count": null,
   "metadata": {},
   "outputs": [],
   "source": [
    "explo.check(fees)"
   ]
  },
  {
   "cell_type": "code",
   "execution_count": null,
   "metadata": {},
   "outputs": [],
   "source": [
    "cl.convert_dates(fees, cl.fees_data_date_columns)\n",
    "\n",
    "# Re-check and ensure correct data types in cfees:\n",
    "cl.ensure_correct_data_types(fees, cl.fees_data_date_columns)\n",
    "\n",
    "fees.head()"
   ]
  },
  {
   "cell_type": "code",
   "execution_count": null,
   "metadata": {},
   "outputs": [],
   "source": [
    "cl.rename_col(cash_requests, 'id', 'cash_request_id')\n",
    "data_df = cl.merge_df(cash_requests, fees, 'outer', 'cash_request_id')\n",
    "data_df = cl.rename_col_xy(data_df)\n",
    "data_df.head(20)"
   ]
  },
  {
   "cell_type": "code",
   "execution_count": null,
   "metadata": {},
   "outputs": [],
   "source": [
    "data_df.sample(10)"
   ]
  },
  {
   "cell_type": "code",
   "execution_count": null,
   "metadata": {},
   "outputs": [],
   "source": [
    "cl.rename_col(data_df, 'id', 'id_fee')\n",
    "cl.clean_text_column(data_df, \"reason\")\n",
    "explo.check(data_df)"
   ]
  },
  {
   "cell_type": "code",
   "execution_count": null,
   "metadata": {},
   "outputs": [],
   "source": [
    "data_df = cl.remove_nan(data_df, \"cash_request_id\")\n",
    "explo.check_null(data_df)"
   ]
  },
  {
   "cell_type": "code",
   "execution_count": null,
   "metadata": {},
   "outputs": [],
   "source": [
    "data_df = cl.drop_col(data_df, [\"id_fee\", \"category\"])\n",
    "data_df.head(10)"
   ]
  },
  {
   "cell_type": "code",
   "execution_count": null,
   "metadata": {},
   "outputs": [],
   "source": [
    "explo.check_null(data_df)"
   ]
  },
  {
   "cell_type": "code",
   "execution_count": null,
   "metadata": {},
   "outputs": [],
   "source": [
    "frames = cl.selecting_data_types(data_df)\n",
    "num = frames[1]\n",
    "cat = frames[0]\n",
    "date = frames[2]"
   ]
  },
  {
   "cell_type": "code",
   "execution_count": null,
   "metadata": {},
   "outputs": [],
   "source": [
    "num.head()"
   ]
  },
  {
   "cell_type": "code",
   "execution_count": null,
   "metadata": {},
   "outputs": [],
   "source": [
    "explo.check_null(num)"
   ]
  },
  {
   "cell_type": "code",
   "execution_count": null,
   "metadata": {},
   "outputs": [],
   "source": [
    "cat.head()"
   ]
  },
  {
   "cell_type": "code",
   "execution_count": null,
   "metadata": {},
   "outputs": [],
   "source": [
    "explo.check_null(cat)"
   ]
  },
  {
   "cell_type": "code",
   "execution_count": null,
   "metadata": {},
   "outputs": [],
   "source": [
    "date.head()"
   ]
  },
  {
   "cell_type": "code",
   "execution_count": null,
   "metadata": {},
   "outputs": [],
   "source": [
    "explo.check_null(date)"
   ]
  },
  {
   "cell_type": "code",
   "execution_count": null,
   "metadata": {},
   "outputs": [],
   "source": [
    "# Verify specific date columns' data types in cash_requests:\n",
    "print(\"\\nCheck data types of date columns:\")\n",
    "print(cash_requests[['created_at', 'updated_at', 'moderated_at', 'reimbursement_date', \n",
    "                     'cash_request_received_date', 'money_back_date', 'send_at', 'reco_creation', 'reco_last_update']].dtypes)\n",
    "\n",
    "# Check for any NaT in date columns:\n",
    "print(\"\\nCheck NaT (missing values) in date columns:\")\n",
    "print(cash_requests[['created_at', 'updated_at', 'moderated_at', 'reimbursement_date', \n",
    "                     'cash_request_received_date', 'money_back_date', 'send_at', 'reco_creation', 'reco_last_update']].isna().sum())"
   ]
  },
  {
   "cell_type": "code",
   "execution_count": null,
   "metadata": {},
   "outputs": [],
   "source": [
    "df_time_between_CR_and_money_back = cl.process_date_columns(date, \"CR_created_at\", \"money_back_date\")\n",
    "df_time_between_CR_and_money_back.head()"
   ]
  },
  {
   "cell_type": "code",
   "execution_count": null,
   "metadata": {},
   "outputs": [],
   "source": [
    "explo.check(df_time_between_CR_and_money_back)"
   ]
  },
  {
   "cell_type": "code",
   "execution_count": null,
   "metadata": {},
   "outputs": [],
   "source": [
    "df_time_between_fee_created_and_paid_at_date = cl.process_date_columns(date, \"fee_created_at\", \"paid_at\")\n",
    "df_time_between_fee_created_and_paid_at_date.head(20)"
   ]
  },
  {
   "cell_type": "code",
   "execution_count": null,
   "metadata": {},
   "outputs": [],
   "source": [
    "explo.check(df_time_between_fee_created_and_paid_at_date)"
   ]
  },
  {
   "cell_type": "code",
   "execution_count": null,
   "metadata": {},
   "outputs": [],
   "source": [
    "# We can divide the columns between us and ecah work in a set of columns performing an \n",
    "# univariate analysis (frequency plots, box plots, doughnut, histograms   or any other you concider)\n",
    "#For numercial plots also create report in mean , meadian, std, and arrive to conclusions "
   ]
  },
  {
   "cell_type": "code",
   "execution_count": null,
   "metadata": {},
   "outputs": [],
   "source": [
    "data_df['first_advance_date'] = data_df.groupby('user_id')['CR_created_at'].transform('min')\n",
    "#create cohort using dates from the first transactions, and grouping all users according to user id."
   ]
  },
  {
   "cell_type": "code",
   "execution_count": null,
   "metadata": {},
   "outputs": [],
   "source": [
    "data_df['cohort_month'] = data_df['first_advance_date'].dt.to_period('M')\n",
    "# extracts month and year from the first advance column and converts it to a period format."
   ]
  },
  {
   "cell_type": "code",
   "execution_count": null,
   "metadata": {},
   "outputs": [],
   "source": [
    "data_df['cohort_index'] = (data_df['CR_created_at'].dt.year - data_df['first_advance_date'].dt.year) * 12 + \\\n",
    "                     (data_df['CR_created_at'].dt.month - data_df['first_advance_date'].dt.month) + 1\n",
    "# finds difference in years between two dates, *12 converts into months.\n",
    "print(data_df.info()) #check if the cohort column exists"
   ]
  },
  {
   "cell_type": "code",
   "execution_count": null,
   "metadata": {},
   "outputs": [],
   "source": [
    "data_df['cohort_month'] = data_df['first_advance_date'].dt.to_period('M')\n",
    "data_df.groupby('cohort_month').size()\n",
    "# extracts the month and year from the list of first advance and creates a new column, \n",
    "# cohort month, that shows how many users interacted with the service.\n"
   ]
  },
  {
   "cell_type": "code",
   "execution_count": null,
   "metadata": {},
   "outputs": [],
   "source": [
    "cohort_table = data_df.groupby(['cohort_month', data_df['CR_created_at'].dt.to_period('M')])['user_id'].count()\n",
    "cohort_table = cohort_table.unstack()\n",
    "cohort_table = cohort_table.fillna(0)\n",
    "print(cohort_table)"
   ]
  },
  {
   "cell_type": "code",
   "execution_count": null,
   "metadata": {},
   "outputs": [],
   "source": [
    "cohort_size = data_df.groupby('cohort_month')['user_id'].nunique()\n",
    "# counts how many unique users belong to each cohort month. \n",
    "cohort_size\n"
   ]
  },
  {
   "cell_type": "code",
   "execution_count": null,
   "metadata": {},
   "outputs": [],
   "source": [
    "# count the number of times each user used the service in each month\n",
    "cohort_usage = data_df.groupby(['cohort_month', data_df['CR_created_at'].dt.to_period('M')])['user_id'].count()\n",
    "\n",
    "# each row is a cohort, and each column is a month\n",
    "cohort_usage = cohort_usage.unstack(fill_value=0)\n",
    "# Calculate the frequency of service usage by dividing the usage count by cohort size\n",
    "cohort_usage_frequency = cohort_usage.divide(cohort_size, axis=0)  # Divide usage by cohort size"
   ]
  },
  {
   "cell_type": "code",
   "execution_count": null,
   "metadata": {},
   "outputs": [],
   "source": [
    "cohort_usage_percentage = cohort_usage.div(cohort_size, axis=0) * 100\n",
    "cohort_usage_percentage.fillna(0, inplace=True)\n"
   ]
  },
  {
   "cell_type": "code",
   "execution_count": null,
   "metadata": {},
   "outputs": [],
   "source": [
    "data_df['first_advance_date'] = data_df.groupby('user_id')['CR_created_at'].transform('min')\n",
    "data_df['cohort_month'] = data_df['first_advance_date'].dt.to_period('M')\n",
    "\n",
    "new_users = data_df.groupby('cohort_month')['user_id'].nunique()\n",
    "\n",
    "interactions = data_df.groupby('cohort_month')['user_id'].count()\n",
    "\n",
    "frequency_of_usage = interactions / new_users\n",
    "cohort_usage_matrix = data_df.groupby(['cohort_month', data_df['CR_created_at'].dt.to_period('M')])['user_id'].count().unstack()\n",
    "\n",
    "cohort_usage_matrix.fillna(0, inplace=True)\n",
    "\n",
    "plt.figure(figsize=(12, 8))\n",
    "sns.heatmap(cohort_usage_matrix, annot=True, fmt='g', cmap='Blues', cbar=True)\n",
    "plt.title('Heatmap of Service Usage by Cohort and Month')\n",
    "plt.xlabel('Month of Interaction')\n",
    "plt.ylabel('Cohort Month')\n",
    "plt.xticks(rotation=45) \n",
    "plt.show()\n"
   ]
  },
  {
   "cell_type": "code",
   "execution_count": null,
   "metadata": {},
   "outputs": [],
   "source": [
    "frequency_by_month = cohort_table.sum(axis=0) "
   ]
  },
  {
   "cell_type": "code",
   "execution_count": null,
   "metadata": {},
   "outputs": [],
   "source": [
    "plt.figure(figsize=(12, 6))\n",
    "sns.barplot(x=frequency_by_month.index.astype(str), y=frequency_by_month.values, palette='Blues')\n",
    "\n",
    "plt.title('Frequency of Service Usage by Month')\n",
    "plt.xlabel('Month')\n",
    "plt.ylabel('Number of Interactions')\n",
    "plt.xticks(rotation=45)\n",
    "plt.show()\n"
   ]
  },
  {
   "cell_type": "code",
   "execution_count": null,
   "metadata": {},
   "outputs": [],
   "source": [
    "frequency_table = cohort_table.sum(axis=0) \n",
    "frequency_table = frequency_table.reset_index() \n",
    "frequency_table.columns = ['Month', 'Total Interactions']\n",
    "print(frequency_table)\n"
   ]
  },
  {
   "cell_type": "code",
   "execution_count": null,
   "metadata": {},
   "outputs": [],
   "source": [
    "# Define relevant incident types based on the 'reason' column:\n",
    "incident_reasons = ['rejected direct debit', 'month delay on payment']\n",
    "\n",
    "# Filter data for rows that have incidents:\n",
    "incident_data = data_df[data_df['reason'].isin(incident_reasons)]\n",
    "\n",
    "# Group by cohort month and count the number of incidents per cohort:\n",
    "incident_counts = incident_data.groupby('cohort_month')['user_id'].nunique()\n",
    "\n",
    "# Group by cohort month to count total requests:\n",
    "total_requests = data_df.groupby('cohort_month')['user_id'].nunique()\n",
    "\n",
    "# Calculate incident rate (number of incidents / total requests per cohort):\n",
    "incident_rate = incident_counts / total_requests * 100\n",
    "\n",
    "# Print incident rate by cohort:\n",
    "print(incident_rate)"
   ]
  },
  {
   "cell_type": "code",
   "execution_count": null,
   "metadata": {},
   "outputs": [],
   "source": [
    "# Frequency table with absolute counts:\n",
    "frequency_table = (data_df[data_df['reason'].isin(['rejected direct debit', 'month delay on payment', 'postpone cash request'])]\n",
    "                   .groupby(['cohort_month', 'reason'])\n",
    "                   .size()\n",
    "                   .unstack(fill_value=0))\n",
    "\n",
    "# Add total column for each cohort month:\n",
    "frequency_table['Total Incidents'] = frequency_table.sum(axis=1)\n",
    "\n",
    "# Display table:\n",
    "print(frequency_table)"
   ]
  },
  {
   "cell_type": "code",
   "execution_count": null,
   "metadata": {},
   "outputs": [],
   "source": [
    "# Filter only relevant incidents:\n",
    "incident_counts = (data_df[data_df['reason'].isin(['rejected direct debit', 'month delay on payment', 'postpone cash request'])]\n",
    "                   .groupby(['cohort_month', 'reason'])\n",
    "                   .size()\n",
    "                   .unstack(fill_value=0))\n",
    "\n",
    "# Plot grouped bar chart:\n",
    "incident_counts.plot(kind='bar', figsize=(10, 6), width=0.8)\n",
    "\n",
    "# Labels and formatting:\n",
    "plt.title('Incident Count by Cohort Month')\n",
    "plt.ylabel('Number of Incidents')\n",
    "plt.xlabel('Cohort Month')\n",
    "plt.xticks(rotation=45)\n",
    "plt.legend(title=\"Incident Types\", bbox_to_anchor=(1.05, 1), loc='upper left')\n",
    "plt.tight_layout()\n",
    "plt.show()"
   ]
  },
  {
   "cell_type": "code",
   "execution_count": null,
   "metadata": {},
   "outputs": [],
   "source": [
    "# Filter only relevant incidents:\n",
    "incident_counts = (data_df[data_df['reason'].isin(['rejected direct debit', 'month delay on payment', 'postpone cash request'])]\n",
    "                   .groupby(['cohort_month', 'reason'])\n",
    "                   .size()\n",
    "                   .unstack(fill_value=0))\n",
    "\n",
    "# Compute total requests per cohort:\n",
    "total_requests = data_df.groupby('cohort_month').size()\n",
    "\n",
    "# Calculate incident rate as a percentage:\n",
    "incident_rate = (incident_counts.div(total_requests, axis=0) * 100)\n",
    "\n",
    "# Plot stacked bar chart:\n",
    "incident_rate.plot(kind='bar', stacked=True, figsize=(10, 6))\n",
    "\n",
    "# Labels and formatting:\n",
    "plt.title('Incident Rate by Cohort Month')\n",
    "plt.ylabel('Incident Rate (%)')\n",
    "plt.xlabel('Cohort Month')\n",
    "plt.xticks(rotation=45)\n",
    "plt.legend(title=\"Incident Types\", bbox_to_anchor=(1.05, 1), loc='upper left')\n",
    "plt.tight_layout()\n",
    "plt.show()"
   ]
  },
  {
   "cell_type": "code",
   "execution_count": null,
   "metadata": {},
   "outputs": [
    {
     "data": {
      "image/png": "[encoded data removed]",
      "text/plain": [
       "<Figure size 1000x600 with 1 Axes>"
      ]
     },
     "metadata": {},
     "output_type": "display_data"
    }
   ],
   "source": [
    "import matplotlib.pyplot as plt\n",
    "\n",
    "# Filter only relevant incidents:\n",
    "incident_counts = (data_df[data_df['reason'].isin(['rejected direct debit', 'month delay on payment', 'postpone cash request'])]\n",
    "                   .groupby(['cohort_month', 'reason'])\n",
    "                   .size()\n",
    "                   .unstack(fill_value=0))\n",
    "\n",
    "# Plot grouped bar chart:\n",
    "incident_counts.plot(kind='bar', figsize=(10, 6), width=0.8)\n",
    "\n",
    "# Labels and formatting:\n",
    "plt.title('Incident Count by Cohort Month')\n",
    "plt.ylabel('Number of Incidents')\n",
    "plt.xlabel('Cohort Month')\n",
    "plt.xticks(rotation=45)\n",
    "plt.legend(title=\"Incident Types\", bbox_to_anchor=(1.05, 1), loc='upper left')\n",
    "plt.tight_layout()\n",
    "plt.show()\n"
   ]
  }
 ],
 "metadata": {
  "kernelspec": {
   "display_name": "Python 3",
   "language": "python",
   "name": "python3"
  },
  "language_info": {
   "codemirror_mode": {
    "name": "ipython",
    "version": 3
   },
   "file_extension": ".py",
   "mimetype": "text/x-python",
   "name": "python",
   "nbconvert_exporter": "python",
   "pygments_lexer": "ipython3",
   "version": "3.12.6"
  }
 },
 "nbformat": 4,
 "nbformat_minor": 2
}
